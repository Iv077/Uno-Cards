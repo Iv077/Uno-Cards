{
 "cells": [
  {
   "cell_type": "code",
   "execution_count": 3,
   "id": "06d30a31",
   "metadata": {},
   "outputs": [
    {
     "ename": "FileNotFoundError",
     "evalue": "[Errno 2] No such file or directory: 'Uno_Classifier.sav'",
     "output_type": "error",
     "traceback": [
      "\u001b[1;31m---------------------------------------------------------------------------\u001b[0m",
      "\u001b[1;31mFileNotFoundError\u001b[0m                         Traceback (most recent call last)",
      "\u001b[1;32m~\\AppData\\Local\\Temp\\ipykernel_12892\\335817478.py\u001b[0m in \u001b[0;36m<module>\u001b[1;34m\u001b[0m\n\u001b[0;32m     41\u001b[0m \u001b[1;33m\u001b[0m\u001b[0m\n\u001b[0;32m     42\u001b[0m \u001b[1;32mwhile\u001b[0m \u001b[1;32mTrue\u001b[0m\u001b[1;33m:\u001b[0m\u001b[1;33m\u001b[0m\u001b[1;33m\u001b[0m\u001b[0m\n\u001b[1;32m---> 43\u001b[1;33m     \u001b[0mclassifier\u001b[0m \u001b[1;33m=\u001b[0m \u001b[0mjoblib\u001b[0m\u001b[1;33m.\u001b[0m\u001b[0mload\u001b[0m\u001b[1;33m(\u001b[0m\u001b[1;34m'Uno_Classifier.sav'\u001b[0m\u001b[1;33m)\u001b[0m\u001b[1;33m\u001b[0m\u001b[1;33m\u001b[0m\u001b[0m\n\u001b[0m\u001b[0;32m     44\u001b[0m     \u001b[0msuccess\u001b[0m\u001b[1;33m,\u001b[0m \u001b[0mimg\u001b[0m \u001b[1;33m=\u001b[0m \u001b[0mvc\u001b[0m\u001b[1;33m.\u001b[0m\u001b[0mread\u001b[0m\u001b[1;33m(\u001b[0m\u001b[1;33m)\u001b[0m\u001b[1;33m\u001b[0m\u001b[1;33m\u001b[0m\u001b[0m\n\u001b[0;32m     45\u001b[0m     \u001b[0mimgContour\u001b[0m \u001b[1;33m=\u001b[0m \u001b[0mimg\u001b[0m\u001b[1;33m.\u001b[0m\u001b[0mcopy\u001b[0m\u001b[1;33m(\u001b[0m\u001b[1;33m)\u001b[0m\u001b[1;33m\u001b[0m\u001b[1;33m\u001b[0m\u001b[0m\n",
      "\u001b[1;32m~\\anaconda3\\lib\\site-packages\\joblib\\numpy_pickle.py\u001b[0m in \u001b[0;36mload\u001b[1;34m(filename, mmap_mode)\u001b[0m\n\u001b[0;32m    577\u001b[0m             \u001b[0mobj\u001b[0m \u001b[1;33m=\u001b[0m \u001b[0m_unpickle\u001b[0m\u001b[1;33m(\u001b[0m\u001b[0mfobj\u001b[0m\u001b[1;33m)\u001b[0m\u001b[1;33m\u001b[0m\u001b[1;33m\u001b[0m\u001b[0m\n\u001b[0;32m    578\u001b[0m     \u001b[1;32melse\u001b[0m\u001b[1;33m:\u001b[0m\u001b[1;33m\u001b[0m\u001b[1;33m\u001b[0m\u001b[0m\n\u001b[1;32m--> 579\u001b[1;33m         \u001b[1;32mwith\u001b[0m \u001b[0mopen\u001b[0m\u001b[1;33m(\u001b[0m\u001b[0mfilename\u001b[0m\u001b[1;33m,\u001b[0m \u001b[1;34m'rb'\u001b[0m\u001b[1;33m)\u001b[0m \u001b[1;32mas\u001b[0m \u001b[0mf\u001b[0m\u001b[1;33m:\u001b[0m\u001b[1;33m\u001b[0m\u001b[1;33m\u001b[0m\u001b[0m\n\u001b[0m\u001b[0;32m    580\u001b[0m             \u001b[1;32mwith\u001b[0m \u001b[0m_read_fileobject\u001b[0m\u001b[1;33m(\u001b[0m\u001b[0mf\u001b[0m\u001b[1;33m,\u001b[0m \u001b[0mfilename\u001b[0m\u001b[1;33m,\u001b[0m \u001b[0mmmap_mode\u001b[0m\u001b[1;33m)\u001b[0m \u001b[1;32mas\u001b[0m \u001b[0mfobj\u001b[0m\u001b[1;33m:\u001b[0m\u001b[1;33m\u001b[0m\u001b[1;33m\u001b[0m\u001b[0m\n\u001b[0;32m    581\u001b[0m                 \u001b[1;32mif\u001b[0m \u001b[0misinstance\u001b[0m\u001b[1;33m(\u001b[0m\u001b[0mfobj\u001b[0m\u001b[1;33m,\u001b[0m \u001b[0mstr\u001b[0m\u001b[1;33m)\u001b[0m\u001b[1;33m:\u001b[0m\u001b[1;33m\u001b[0m\u001b[1;33m\u001b[0m\u001b[0m\n",
      "\u001b[1;31mFileNotFoundError\u001b[0m: [Errno 2] No such file or directory: 'Uno_Classifier.sav'"
     ]
    }
   ],
   "source": [
    "import cv2\n",
    "import numpy as np\n",
    "import joblib\n",
    "\n",
    "frameWidth = 240\n",
    "frameHeight = 240\n",
    "vc = cv2.VideoCapture(0)\n",
    "vc.set(3, frameWidth)\n",
    "vc.set(4, frameHeight)\n",
    "classifier = joblib.load('Uno_Classifier.sav')\n",
    "\n",
    "def empty(a):\n",
    "    pass\n",
    "\n",
    "cv2.namedWindow('Parameters')\n",
    "cv2.resizeWindow('Parameters', 240,180)\n",
    "cv2.createTrackbar('Threshold1','Parameters', 70, 255, empty)\n",
    "cv2.createTrackbar('Threshold2','Parameters', 190, 255, empty)\n",
    "cv2.createTrackbar('Area_min','Parameters', 1500, 10000, empty)\n",
    "cv2.createTrackbar('Area_max','Parameters', 10000, 10000, empty)\n",
    "\n",
    "\n",
    "def getContours(img, imgContour):\n",
    "    \n",
    "    contours, hierarchy = cv2.findContours(img_canny,cv2.RETR_TREE,cv2.CHAIN_APPROX_SIMPLE) #contours is not an image, is a chain of pixel locations\n",
    "    \n",
    "    for cnt in contours:\n",
    "        area = cv2.contourArea(cnt)\n",
    "        areamin = cv2.getTrackbarPos('Area_min', 'Parameters')\n",
    "        areamax = cv2.getTrackbarPos('Area_max', 'Parameters')\n",
    "        if area > areamin and area < areamax:\n",
    "            cv2.drawContours(imgContour, cnt,-1,(255, 0, 255),2)\n",
    "            perimeter = cv2.arcLength(cnt, True)      # perimeter of contour c (curved length)\n",
    "            epsilon = 0.02*perimeter    # parameter of polygon approximation: smaller values provide more vertices\n",
    "            approx = cv2.approxPolyDP(cnt, epsilon, True)\n",
    "            x,y,w,h = cv2.boundingRect(approx)\n",
    "            cv2.rectangle(imgContour, (x,y), (x+w,y+h), (255, 0, 0), 2)\n",
    "#             cv2.putText(imgContour, 'Points:' + str(len(approx)), (x + w + 20, y + 20), cv2.FONT_HERSHEY_COMPLEX, .7, (0, 255,0),2)\n",
    "#             cv2.putText(imgContour, 'Areas:' + str(int(area)), (x + w + 20, y + 45), cv2.FONT_HERSHEY_COMPLEX, .7, (0, 255,0),2)\n",
    "\n",
    "\n",
    "while True:\n",
    "    success, img = vc.read()\n",
    "    imgContour = img.copy()\n",
    "    img_blur = cv2.GaussianBlur(img, (7,7),1)\n",
    "    img_gray = cv2.cvtColor(img_blur, cv2.COLOR_BGR2GRAY)   # convert to B/W\n",
    "    \n",
    "    threshold1 = cv2.getTrackbarPos('Threshold1', 'Parameters')\n",
    "    threshold2 = cv2.getTrackbarPos('Threshold2', 'Parameters')\n",
    "    img_canny = cv2.Canny(img_gray, threshold1, threshold2)    # standard canny edge detector\n",
    "    kernel = np.ones((3, 3))\n",
    "    img_dil = cv2.dilate(img_canny, kernel, iterations=1)\n",
    "    \n",
    "    retval = cv2.MatchShapes(contours[0], classifier , CV_CONTOURS_MATCH_I1, 0)\n",
    "    print(retval)\n",
    "    \n",
    "    getContours(img_dil,imgContour)\n",
    "       \n",
    "    cv2.imshow('Result', img_canny)\n",
    "    cv2.imshow('Result2', imgContour)\n",
    "\n",
    "\n",
    "    if cv2.waitKey(1) & 0xFF == ord('q'):\n",
    "        break\n",
    "\n",
    "\n",
    "cv2.destroyAllWindows()\n",
    "vc.release()        \n"
   ]
  },
  {
   "cell_type": "code",
   "execution_count": null,
   "id": "af0d411b",
   "metadata": {},
   "outputs": [],
   "source": []
  }
 ],
 "metadata": {
  "kernelspec": {
   "display_name": "Python 3 (ipykernel)",
   "language": "python",
   "name": "python3"
  },
  "language_info": {
   "codemirror_mode": {
    "name": "ipython",
    "version": 3
   },
   "file_extension": ".py",
   "mimetype": "text/x-python",
   "name": "python",
   "nbconvert_exporter": "python",
   "pygments_lexer": "ipython3",
   "version": "3.9.13"
  }
 },
 "nbformat": 4,
 "nbformat_minor": 5
}
