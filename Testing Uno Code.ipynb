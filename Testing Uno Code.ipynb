{
 "cells": [
  {
   "cell_type": "code",
   "execution_count": 1,
   "id": "58d98bad",
   "metadata": {},
   "outputs": [],
   "source": [
    "import cv2\n",
    "import numpy as np"
   ]
  },
  {
   "cell_type": "code",
   "execution_count": 2,
   "id": "a9b4994f",
   "metadata": {},
   "outputs": [],
   "source": [
    "img_colour = cv2.imread(r\"C:\\Users\\19pil\\Documents\\3rd Year Uni\\Eris\\images\\b0.jpg\")   # open the saved image in colour\n",
    "img = cv2.cvtColor(img_colour, cv2.COLOR_BGR2GRAY)   # convert to B/W\n",
    "img_sm = cv2.blur(img, (5, 5))         # smoothing\n",
    "thr_value, img_th = cv2.threshold(img_sm, 0, 255, cv2.THRESH_OTSU)   # binarisation\n",
    "kernel = np.ones((5, 5), np.uint8)\n",
    "img_close = cv2.morphologyEx(img_th, cv2.MORPH_OPEN, kernel)      # morphology correction\n",
    "img_canny = cv2.Canny(img_close, 50, 100)                          # edge detection\n",
    "contours, hierarchy = cv2.findContours(img_close, cv2.RETR_TREE, cv2.CHAIN_APPROX_NONE)   # extract contours on binarised image, not on canny\n",
    "cv2.drawContours(img_colour, contours, -1, (0, 255, 0), 1)         # paint contours on top of original coloured mage\n",
    "#cv2.imshow('picture', img_colour)\n",
    "#cv2.imshow('edges', img_canny)\n",
    "key = cv2.waitKey(0)\n",
    "cv2.destroyAllWindows()"
   ]
  },
  {
   "cell_type": "code",
   "execution_count": 3,
   "id": "dfe43890",
   "metadata": {},
   "outputs": [
    {
     "name": "stdout",
     "output_type": "stream",
     "text": [
      "0 : [-1 -1  1 -1]\n",
      "length:  795\n",
      "perimeter:  808.6690467596054\n",
      "approx corners:  4 \n",
      "\n",
      "1 : [ 2 -1 -1  0]\n",
      "length:  44\n",
      "perimeter:  49.79898953437805\n",
      "approx corners:  8 \n",
      "\n",
      "2 : [ 3  1 -1  0]\n",
      "length:  105\n",
      "perimeter:  117.84061968326569\n",
      "approx corners:  8 \n",
      "\n",
      "3 : [7 2 4 0]\n",
      "length:  240\n",
      "perimeter:  276.45079135894775\n",
      "approx corners:  8 \n",
      "\n",
      "4 : [-1 -1  5  3]\n",
      "length:  209\n",
      "perimeter:  237.5807341337204\n",
      "approx corners:  8 \n",
      "\n",
      "5 : [-1 -1  6  4]\n",
      "length:  115\n",
      "perimeter:  127.84061968326569\n",
      "approx corners:  8 \n",
      "\n",
      "6 : [-1 -1 -1  5]\n",
      "length:  78\n",
      "perimeter:  82.14213538169861\n",
      "approx corners:  7 \n",
      "\n",
      "7 : [ 8  3 -1  0]\n",
      "length:  13\n",
      "perimeter:  15.899494767189026\n",
      "approx corners:  8 \n",
      "\n",
      "8 : [-1  7 -1  0]\n",
      "length:  43\n",
      "perimeter:  51.69848430156708\n",
      "approx corners:  9 \n",
      "\n",
      "[240, 276.45079135894775, 8]\n"
     ]
    }
   ],
   "source": [
    "imgc = cv2.imread(r\"C:\\Users\\19pil\\Documents\\3rd Year Uni\\Eris\\images\\b0.jpg\")    # open the saved image in colour \n",
    "data = []\n",
    "for i, c in enumerate(contours):            # loop through all the found contours\n",
    "    print(i, ':', hierarchy[0, i])         # display contour hierarchy\n",
    "    length = len(c)\n",
    "    print('length: ', length)               # display numbr of points in contour c\n",
    "    perimeter = cv2.arcLength(c, True)      # perimeter of contour c (curved length)\n",
    "    print('perimeter: ', perimeter)               \n",
    "    epsilon = 0.02*perimeter    # parameter of polygon approximation: smaller values provide more vertices\n",
    "    vertex_approx = len(cv2.approxPolyDP(c, epsilon, True))     # approximate with polygon\n",
    "    print('approx corners: ', vertex_approx, '\\n')                    # number of vertices\n",
    "    ellipse = cv2.fitEllipse(c)\n",
    "    cv2.drawContours(imgc, [c], 0, (0, 255, 0), 3)   # paint contour c\n",
    "    cv2.putText(imgc, str(i), (c[0, 0, 0]+20, c[0, 0, 1]+30), cv2.FONT_HERSHEY_DUPLEX, 1, (0, 0, 255))    # identify contour c\n",
    "    [x,y,w,h] = cv2.boundingRect(c)\n",
    "    cv2.rectangle(imgc, (x,y), (x+w,y+h), (255, 0, 0), 2)\n",
    "    sample = [length, perimeter, vertex_approx]\n",
    "    data.append(sample)\n",
    "cv2.namedWindow('picture', cv2.WINDOW_NORMAL)\n",
    "cv2.imshow('picture',imgc)\n",
    "key = cv2.waitKey(0)\n",
    "cv2.destroyAllWindows()\n",
    "data.remove(max(data, key=lambda x: x[1]))\n",
    "B_Contour = (max(data, key=lambda x: x[1]))\n",
    "print(B_Contour)"
   ]
  },
  {
   "cell_type": "code",
   "execution_count": null,
   "id": "e299ebc1",
   "metadata": {},
   "outputs": [],
   "source": [
    "playing with coordinates???? puede que no?\n",
    "how to do that\n",
    "\n",
    "i did crop but i need to doubke check it \n",
    "\n",
    "puedo ordenar todos los datos como eris hizo con el append \n",
    "y despues puedo imprimir la sub lista con el indice 0 mas grande\n",
    "\n",
    "Solucion: https://blog.finxter.com/how-to-find-the-max-of-list-of-lists-in-python/#:~:text=With%20the%20key%20argument%20of,of%20the%20list%20of%20lists.\n",
    "    \n",
    "A = [[1, 4, 5, 12], [-5, 8, 9, 0], [-6, 7, 11, 19]]\n",
    "\n",
    "print(max(A, key=lambda x: x[0]))"
   ]
  },
  {
   "cell_type": "code",
   "execution_count": null,
   "id": "6c558d8b",
   "metadata": {},
   "outputs": [],
   "source": []
  }
 ],
 "metadata": {
  "kernelspec": {
   "display_name": "Python 3 (ipykernel)",
   "language": "python",
   "name": "python3"
  },
  "language_info": {
   "codemirror_mode": {
    "name": "ipython",
    "version": 3
   },
   "file_extension": ".py",
   "mimetype": "text/x-python",
   "name": "python",
   "nbconvert_exporter": "python",
   "pygments_lexer": "ipython3",
   "version": "3.9.13"
  }
 },
 "nbformat": 4,
 "nbformat_minor": 5
}
